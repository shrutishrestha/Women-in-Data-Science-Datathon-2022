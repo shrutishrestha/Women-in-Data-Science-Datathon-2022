{
 "cells": [
  {
   "cell_type": "code",
   "execution_count": 1,
   "id": "454a387e",
   "metadata": {
    "_cell_guid": "b1076dfc-b9ad-4769-8c92-a6c4dae69d19",
    "_uuid": "8f2839f25d086af736a60e9eeb907d3b93b6e0e5",
    "execution": {
     "iopub.execute_input": "2022-02-05T01:51:07.133163Z",
     "iopub.status.busy": "2022-02-05T01:51:07.131981Z",
     "iopub.status.idle": "2022-02-05T01:51:08.524694Z",
     "shell.execute_reply": "2022-02-05T01:51:08.525237Z",
     "shell.execute_reply.started": "2022-02-05T01:30:10.659348Z"
    },
    "papermill": {
     "duration": 1.428904,
     "end_time": "2022-02-05T01:51:08.525567",
     "exception": false,
     "start_time": "2022-02-05T01:51:07.096663",
     "status": "completed"
    },
    "tags": []
   },
   "outputs": [
    {
     "name": "stdout",
     "output_type": "stream",
     "text": [
      "/kaggle/input/widsdatathon2022/train.csv\n",
      "/kaggle/input/widsdatathon2022/test.csv\n",
      "/kaggle/input/widsdatathon2022/sample_solution.csv\n"
     ]
    }
   ],
   "source": [
    "#Shruti notebook\n",
    "# This Python 3 environment comes with many helpful analytics libraries installed\n",
    "# It is defined by the kaggle/python Docker image: https://github.com/kaggle/docker-python\n",
    "# For example, here's several helpful packages to load\n",
    "\n",
    "import numpy as np # linear algebra\n",
    "import pandas as pd # data processing, CSV file I/O (e.g. pd.read_csv)\n",
    "import matplotlib.pyplot as plt\n",
    "import seaborn as sns\n",
    "from sklearn.preprocessing import LabelEncoder\n",
    "from sklearn.metrics import mean_squared_error\n",
    "from sklearn.preprocessing import StandardScaler\n",
    "\n",
    "#regression libraries\n",
    "\n",
    "\n",
    "# Input data files are available in the read-only \"../input/\" directory\n",
    "# For example, running this (by clicking run or pressing Shift+Enter) will list all files under the input directory\n",
    "\n",
    "import os\n",
    "for dirname, _, filenames in os.walk('/kaggle/input'):\n",
    "    for filename in filenames:\n",
    "        print(os.path.join(dirname, filename))\n",
    "\n",
    "# You can write up to 20GB to the current directory (/kaggle/working/) that gets preserved as output when you create a version using \"Save & Run All\" \n",
    "# You can also write temporary files to /kaggle/temp/, but they won't be saved outside of the current session"
   ]
  },
  {
   "cell_type": "code",
   "execution_count": 2,
   "id": "20f7877c",
   "metadata": {
    "execution": {
     "iopub.execute_input": "2022-02-05T01:51:08.594333Z",
     "iopub.status.busy": "2022-02-05T01:51:08.593224Z",
     "iopub.status.idle": "2022-02-05T01:51:08.598119Z",
     "shell.execute_reply": "2022-02-05T01:51:08.598615Z",
     "shell.execute_reply.started": "2022-02-05T01:30:10.852825Z"
    },
    "papermill": {
     "duration": 0.039181,
     "end_time": "2022-02-05T01:51:08.598822",
     "exception": false,
     "start_time": "2022-02-05T01:51:08.559641",
     "status": "completed"
    },
    "tags": []
   },
   "outputs": [],
   "source": [
    "import warnings\n",
    "warnings.simplefilter(action='ignore', category=FutureWarning)"
   ]
  },
  {
   "cell_type": "code",
   "execution_count": 3,
   "id": "dd79f148",
   "metadata": {
    "execution": {
     "iopub.execute_input": "2022-02-05T01:51:08.667767Z",
     "iopub.status.busy": "2022-02-05T01:51:08.666985Z",
     "iopub.status.idle": "2022-02-05T01:51:09.687016Z",
     "shell.execute_reply": "2022-02-05T01:51:09.686420Z",
     "shell.execute_reply.started": "2022-02-05T01:30:11.049946Z"
    },
    "papermill": {
     "duration": 1.056938,
     "end_time": "2022-02-05T01:51:09.687165",
     "exception": false,
     "start_time": "2022-02-05T01:51:08.630227",
     "status": "completed"
    },
    "tags": []
   },
   "outputs": [
    {
     "name": "stdout",
     "output_type": "stream",
     "text": [
      "train set size (75757, 64)\n",
      "test set size (9705, 63)\n"
     ]
    }
   ],
   "source": [
    "train = pd.read_csv(\"/kaggle/input/widsdatathon2022/train.csv\")\n",
    "test = pd.read_csv(\"/kaggle/input/widsdatathon2022/test.csv\")\n",
    "print(\"train set size\", train.shape)\n",
    "print(\"test set size\", test.shape)"
   ]
  },
  {
   "cell_type": "code",
   "execution_count": 4,
   "id": "ffd8d5fd",
   "metadata": {
    "execution": {
     "iopub.execute_input": "2022-02-05T01:51:09.764820Z",
     "iopub.status.busy": "2022-02-05T01:51:09.764104Z",
     "iopub.status.idle": "2022-02-05T01:51:09.793256Z",
     "shell.execute_reply": "2022-02-05T01:51:09.793808Z",
     "shell.execute_reply.started": "2022-02-05T01:30:11.647637Z"
    },
    "papermill": {
     "duration": 0.075462,
     "end_time": "2022-02-05T01:51:09.793993",
     "exception": false,
     "start_time": "2022-02-05T01:51:09.718531",
     "status": "completed"
    },
    "tags": []
   },
   "outputs": [
    {
     "data": {
      "text/html": [
       "<div>\n",
       "<style scoped>\n",
       "    .dataframe tbody tr th:only-of-type {\n",
       "        vertical-align: middle;\n",
       "    }\n",
       "\n",
       "    .dataframe tbody tr th {\n",
       "        vertical-align: top;\n",
       "    }\n",
       "\n",
       "    .dataframe thead th {\n",
       "        text-align: right;\n",
       "    }\n",
       "</style>\n",
       "<table border=\"1\" class=\"dataframe\">\n",
       "  <thead>\n",
       "    <tr style=\"text-align: right;\">\n",
       "      <th></th>\n",
       "      <th>Year_Factor</th>\n",
       "      <th>State_Factor</th>\n",
       "      <th>building_class</th>\n",
       "      <th>facility_type</th>\n",
       "      <th>floor_area</th>\n",
       "      <th>year_built</th>\n",
       "      <th>energy_star_rating</th>\n",
       "      <th>ELEVATION</th>\n",
       "      <th>january_min_temp</th>\n",
       "      <th>january_avg_temp</th>\n",
       "      <th>...</th>\n",
       "      <th>days_above_80F</th>\n",
       "      <th>days_above_90F</th>\n",
       "      <th>days_above_100F</th>\n",
       "      <th>days_above_110F</th>\n",
       "      <th>direction_max_wind_speed</th>\n",
       "      <th>direction_peak_wind_speed</th>\n",
       "      <th>max_wind_speed</th>\n",
       "      <th>days_with_fog</th>\n",
       "      <th>site_eui</th>\n",
       "      <th>id</th>\n",
       "    </tr>\n",
       "  </thead>\n",
       "  <tbody>\n",
       "    <tr>\n",
       "      <th>0</th>\n",
       "      <td>1</td>\n",
       "      <td>State_1</td>\n",
       "      <td>Commercial</td>\n",
       "      <td>Grocery_store_or_food_market</td>\n",
       "      <td>61242.0</td>\n",
       "      <td>1942.0</td>\n",
       "      <td>11.0</td>\n",
       "      <td>2.4</td>\n",
       "      <td>36</td>\n",
       "      <td>50.5</td>\n",
       "      <td>...</td>\n",
       "      <td>14</td>\n",
       "      <td>0</td>\n",
       "      <td>0</td>\n",
       "      <td>0</td>\n",
       "      <td>1.0</td>\n",
       "      <td>1.0</td>\n",
       "      <td>1.0</td>\n",
       "      <td>NaN</td>\n",
       "      <td>248.682615</td>\n",
       "      <td>0</td>\n",
       "    </tr>\n",
       "    <tr>\n",
       "      <th>1</th>\n",
       "      <td>1</td>\n",
       "      <td>State_1</td>\n",
       "      <td>Commercial</td>\n",
       "      <td>Warehouse_Distribution_or_Shipping_center</td>\n",
       "      <td>274000.0</td>\n",
       "      <td>1955.0</td>\n",
       "      <td>45.0</td>\n",
       "      <td>1.8</td>\n",
       "      <td>36</td>\n",
       "      <td>50.5</td>\n",
       "      <td>...</td>\n",
       "      <td>14</td>\n",
       "      <td>0</td>\n",
       "      <td>0</td>\n",
       "      <td>0</td>\n",
       "      <td>1.0</td>\n",
       "      <td>NaN</td>\n",
       "      <td>1.0</td>\n",
       "      <td>12.0</td>\n",
       "      <td>26.500150</td>\n",
       "      <td>1</td>\n",
       "    </tr>\n",
       "    <tr>\n",
       "      <th>2</th>\n",
       "      <td>1</td>\n",
       "      <td>State_1</td>\n",
       "      <td>Commercial</td>\n",
       "      <td>Retail_Enclosed_mall</td>\n",
       "      <td>280025.0</td>\n",
       "      <td>1951.0</td>\n",
       "      <td>97.0</td>\n",
       "      <td>1.8</td>\n",
       "      <td>36</td>\n",
       "      <td>50.5</td>\n",
       "      <td>...</td>\n",
       "      <td>14</td>\n",
       "      <td>0</td>\n",
       "      <td>0</td>\n",
       "      <td>0</td>\n",
       "      <td>1.0</td>\n",
       "      <td>NaN</td>\n",
       "      <td>1.0</td>\n",
       "      <td>12.0</td>\n",
       "      <td>24.693619</td>\n",
       "      <td>2</td>\n",
       "    </tr>\n",
       "    <tr>\n",
       "      <th>3</th>\n",
       "      <td>1</td>\n",
       "      <td>State_1</td>\n",
       "      <td>Commercial</td>\n",
       "      <td>Education_Other_classroom</td>\n",
       "      <td>55325.0</td>\n",
       "      <td>1980.0</td>\n",
       "      <td>46.0</td>\n",
       "      <td>1.8</td>\n",
       "      <td>36</td>\n",
       "      <td>50.5</td>\n",
       "      <td>...</td>\n",
       "      <td>14</td>\n",
       "      <td>0</td>\n",
       "      <td>0</td>\n",
       "      <td>0</td>\n",
       "      <td>1.0</td>\n",
       "      <td>NaN</td>\n",
       "      <td>1.0</td>\n",
       "      <td>12.0</td>\n",
       "      <td>48.406926</td>\n",
       "      <td>3</td>\n",
       "    </tr>\n",
       "    <tr>\n",
       "      <th>4</th>\n",
       "      <td>1</td>\n",
       "      <td>State_1</td>\n",
       "      <td>Commercial</td>\n",
       "      <td>Warehouse_Nonrefrigerated</td>\n",
       "      <td>66000.0</td>\n",
       "      <td>1985.0</td>\n",
       "      <td>100.0</td>\n",
       "      <td>2.4</td>\n",
       "      <td>36</td>\n",
       "      <td>50.5</td>\n",
       "      <td>...</td>\n",
       "      <td>14</td>\n",
       "      <td>0</td>\n",
       "      <td>0</td>\n",
       "      <td>0</td>\n",
       "      <td>1.0</td>\n",
       "      <td>1.0</td>\n",
       "      <td>1.0</td>\n",
       "      <td>NaN</td>\n",
       "      <td>3.899395</td>\n",
       "      <td>4</td>\n",
       "    </tr>\n",
       "  </tbody>\n",
       "</table>\n",
       "<p>5 rows × 64 columns</p>\n",
       "</div>"
      ],
      "text/plain": [
       "   Year_Factor State_Factor building_class  \\\n",
       "0            1      State_1     Commercial   \n",
       "1            1      State_1     Commercial   \n",
       "2            1      State_1     Commercial   \n",
       "3            1      State_1     Commercial   \n",
       "4            1      State_1     Commercial   \n",
       "\n",
       "                               facility_type  floor_area  year_built  \\\n",
       "0               Grocery_store_or_food_market     61242.0      1942.0   \n",
       "1  Warehouse_Distribution_or_Shipping_center    274000.0      1955.0   \n",
       "2                       Retail_Enclosed_mall    280025.0      1951.0   \n",
       "3                  Education_Other_classroom     55325.0      1980.0   \n",
       "4                  Warehouse_Nonrefrigerated     66000.0      1985.0   \n",
       "\n",
       "   energy_star_rating  ELEVATION  january_min_temp  january_avg_temp  ...  \\\n",
       "0                11.0        2.4                36              50.5  ...   \n",
       "1                45.0        1.8                36              50.5  ...   \n",
       "2                97.0        1.8                36              50.5  ...   \n",
       "3                46.0        1.8                36              50.5  ...   \n",
       "4               100.0        2.4                36              50.5  ...   \n",
       "\n",
       "   days_above_80F  days_above_90F  days_above_100F  days_above_110F  \\\n",
       "0              14               0                0                0   \n",
       "1              14               0                0                0   \n",
       "2              14               0                0                0   \n",
       "3              14               0                0                0   \n",
       "4              14               0                0                0   \n",
       "\n",
       "   direction_max_wind_speed  direction_peak_wind_speed  max_wind_speed  \\\n",
       "0                       1.0                        1.0             1.0   \n",
       "1                       1.0                        NaN             1.0   \n",
       "2                       1.0                        NaN             1.0   \n",
       "3                       1.0                        NaN             1.0   \n",
       "4                       1.0                        1.0             1.0   \n",
       "\n",
       "   days_with_fog    site_eui  id  \n",
       "0            NaN  248.682615   0  \n",
       "1           12.0   26.500150   1  \n",
       "2           12.0   24.693619   2  \n",
       "3           12.0   48.406926   3  \n",
       "4            NaN    3.899395   4  \n",
       "\n",
       "[5 rows x 64 columns]"
      ]
     },
     "execution_count": 4,
     "metadata": {},
     "output_type": "execute_result"
    }
   ],
   "source": [
    "train.head()"
   ]
  },
  {
   "cell_type": "code",
   "execution_count": 5,
   "id": "3fbf329d",
   "metadata": {
    "execution": {
     "iopub.execute_input": "2022-02-05T01:51:09.865108Z",
     "iopub.status.busy": "2022-02-05T01:51:09.864410Z",
     "iopub.status.idle": "2022-02-05T01:51:09.895789Z",
     "shell.execute_reply": "2022-02-05T01:51:09.895186Z",
     "shell.execute_reply.started": "2022-02-05T01:30:11.677691Z"
    },
    "papermill": {
     "duration": 0.06768,
     "end_time": "2022-02-05T01:51:09.895944",
     "exception": false,
     "start_time": "2022-02-05T01:51:09.828264",
     "status": "completed"
    },
    "tags": []
   },
   "outputs": [
    {
     "data": {
      "text/html": [
       "<div>\n",
       "<style scoped>\n",
       "    .dataframe tbody tr th:only-of-type {\n",
       "        vertical-align: middle;\n",
       "    }\n",
       "\n",
       "    .dataframe tbody tr th {\n",
       "        vertical-align: top;\n",
       "    }\n",
       "\n",
       "    .dataframe thead th {\n",
       "        text-align: right;\n",
       "    }\n",
       "</style>\n",
       "<table border=\"1\" class=\"dataframe\">\n",
       "  <thead>\n",
       "    <tr style=\"text-align: right;\">\n",
       "      <th></th>\n",
       "      <th>Year_Factor</th>\n",
       "      <th>State_Factor</th>\n",
       "      <th>building_class</th>\n",
       "      <th>facility_type</th>\n",
       "      <th>floor_area</th>\n",
       "      <th>year_built</th>\n",
       "      <th>energy_star_rating</th>\n",
       "      <th>ELEVATION</th>\n",
       "      <th>january_min_temp</th>\n",
       "      <th>january_avg_temp</th>\n",
       "      <th>...</th>\n",
       "      <th>days_below_0F</th>\n",
       "      <th>days_above_80F</th>\n",
       "      <th>days_above_90F</th>\n",
       "      <th>days_above_100F</th>\n",
       "      <th>days_above_110F</th>\n",
       "      <th>direction_max_wind_speed</th>\n",
       "      <th>direction_peak_wind_speed</th>\n",
       "      <th>max_wind_speed</th>\n",
       "      <th>days_with_fog</th>\n",
       "      <th>id</th>\n",
       "    </tr>\n",
       "  </thead>\n",
       "  <tbody>\n",
       "    <tr>\n",
       "      <th>0</th>\n",
       "      <td>7</td>\n",
       "      <td>State_1</td>\n",
       "      <td>Commercial</td>\n",
       "      <td>Grocery_store_or_food_market</td>\n",
       "      <td>28484.0</td>\n",
       "      <td>1994.0</td>\n",
       "      <td>37.0</td>\n",
       "      <td>2.4</td>\n",
       "      <td>38</td>\n",
       "      <td>50.596774</td>\n",
       "      <td>...</td>\n",
       "      <td>0</td>\n",
       "      <td>29</td>\n",
       "      <td>5</td>\n",
       "      <td>2</td>\n",
       "      <td>0</td>\n",
       "      <td>NaN</td>\n",
       "      <td>NaN</td>\n",
       "      <td>NaN</td>\n",
       "      <td>NaN</td>\n",
       "      <td>75757</td>\n",
       "    </tr>\n",
       "    <tr>\n",
       "      <th>1</th>\n",
       "      <td>7</td>\n",
       "      <td>State_1</td>\n",
       "      <td>Commercial</td>\n",
       "      <td>Grocery_store_or_food_market</td>\n",
       "      <td>21906.0</td>\n",
       "      <td>1961.0</td>\n",
       "      <td>55.0</td>\n",
       "      <td>45.7</td>\n",
       "      <td>38</td>\n",
       "      <td>50.596774</td>\n",
       "      <td>...</td>\n",
       "      <td>0</td>\n",
       "      <td>29</td>\n",
       "      <td>5</td>\n",
       "      <td>2</td>\n",
       "      <td>0</td>\n",
       "      <td>NaN</td>\n",
       "      <td>NaN</td>\n",
       "      <td>NaN</td>\n",
       "      <td>NaN</td>\n",
       "      <td>75758</td>\n",
       "    </tr>\n",
       "    <tr>\n",
       "      <th>2</th>\n",
       "      <td>7</td>\n",
       "      <td>State_1</td>\n",
       "      <td>Commercial</td>\n",
       "      <td>Grocery_store_or_food_market</td>\n",
       "      <td>16138.0</td>\n",
       "      <td>1950.0</td>\n",
       "      <td>1.0</td>\n",
       "      <td>59.1</td>\n",
       "      <td>38</td>\n",
       "      <td>50.596774</td>\n",
       "      <td>...</td>\n",
       "      <td>0</td>\n",
       "      <td>29</td>\n",
       "      <td>5</td>\n",
       "      <td>2</td>\n",
       "      <td>0</td>\n",
       "      <td>NaN</td>\n",
       "      <td>NaN</td>\n",
       "      <td>NaN</td>\n",
       "      <td>NaN</td>\n",
       "      <td>75759</td>\n",
       "    </tr>\n",
       "    <tr>\n",
       "      <th>3</th>\n",
       "      <td>7</td>\n",
       "      <td>State_1</td>\n",
       "      <td>Commercial</td>\n",
       "      <td>Grocery_store_or_food_market</td>\n",
       "      <td>97422.0</td>\n",
       "      <td>1971.0</td>\n",
       "      <td>34.0</td>\n",
       "      <td>35.4</td>\n",
       "      <td>38</td>\n",
       "      <td>50.596774</td>\n",
       "      <td>...</td>\n",
       "      <td>0</td>\n",
       "      <td>29</td>\n",
       "      <td>5</td>\n",
       "      <td>2</td>\n",
       "      <td>0</td>\n",
       "      <td>NaN</td>\n",
       "      <td>NaN</td>\n",
       "      <td>NaN</td>\n",
       "      <td>NaN</td>\n",
       "      <td>75760</td>\n",
       "    </tr>\n",
       "    <tr>\n",
       "      <th>4</th>\n",
       "      <td>7</td>\n",
       "      <td>State_1</td>\n",
       "      <td>Commercial</td>\n",
       "      <td>Grocery_store_or_food_market</td>\n",
       "      <td>61242.0</td>\n",
       "      <td>1942.0</td>\n",
       "      <td>35.0</td>\n",
       "      <td>1.8</td>\n",
       "      <td>38</td>\n",
       "      <td>50.596774</td>\n",
       "      <td>...</td>\n",
       "      <td>0</td>\n",
       "      <td>29</td>\n",
       "      <td>5</td>\n",
       "      <td>2</td>\n",
       "      <td>0</td>\n",
       "      <td>340.0</td>\n",
       "      <td>330.0</td>\n",
       "      <td>22.8</td>\n",
       "      <td>126.0</td>\n",
       "      <td>75761</td>\n",
       "    </tr>\n",
       "  </tbody>\n",
       "</table>\n",
       "<p>5 rows × 63 columns</p>\n",
       "</div>"
      ],
      "text/plain": [
       "   Year_Factor State_Factor building_class                 facility_type  \\\n",
       "0            7      State_1     Commercial  Grocery_store_or_food_market   \n",
       "1            7      State_1     Commercial  Grocery_store_or_food_market   \n",
       "2            7      State_1     Commercial  Grocery_store_or_food_market   \n",
       "3            7      State_1     Commercial  Grocery_store_or_food_market   \n",
       "4            7      State_1     Commercial  Grocery_store_or_food_market   \n",
       "\n",
       "   floor_area  year_built  energy_star_rating  ELEVATION  january_min_temp  \\\n",
       "0     28484.0      1994.0                37.0        2.4                38   \n",
       "1     21906.0      1961.0                55.0       45.7                38   \n",
       "2     16138.0      1950.0                 1.0       59.1                38   \n",
       "3     97422.0      1971.0                34.0       35.4                38   \n",
       "4     61242.0      1942.0                35.0        1.8                38   \n",
       "\n",
       "   january_avg_temp  ...  days_below_0F  days_above_80F  days_above_90F  \\\n",
       "0         50.596774  ...              0              29               5   \n",
       "1         50.596774  ...              0              29               5   \n",
       "2         50.596774  ...              0              29               5   \n",
       "3         50.596774  ...              0              29               5   \n",
       "4         50.596774  ...              0              29               5   \n",
       "\n",
       "   days_above_100F  days_above_110F  direction_max_wind_speed  \\\n",
       "0                2                0                       NaN   \n",
       "1                2                0                       NaN   \n",
       "2                2                0                       NaN   \n",
       "3                2                0                       NaN   \n",
       "4                2                0                     340.0   \n",
       "\n",
       "   direction_peak_wind_speed  max_wind_speed  days_with_fog     id  \n",
       "0                        NaN             NaN            NaN  75757  \n",
       "1                        NaN             NaN            NaN  75758  \n",
       "2                        NaN             NaN            NaN  75759  \n",
       "3                        NaN             NaN            NaN  75760  \n",
       "4                      330.0            22.8          126.0  75761  \n",
       "\n",
       "[5 rows x 63 columns]"
      ]
     },
     "execution_count": 5,
     "metadata": {},
     "output_type": "execute_result"
    }
   ],
   "source": [
    "test.head()"
   ]
  },
  {
   "cell_type": "markdown",
   "id": "8a693865",
   "metadata": {
    "papermill": {
     "duration": 0.0325,
     "end_time": "2022-02-05T01:51:09.964171",
     "exception": false,
     "start_time": "2022-02-05T01:51:09.931671",
     "status": "completed"
    },
    "tags": []
   },
   "source": [
    "Data Preprocessing:\n",
    "\n",
    "1. find null values\n",
    "2. impute missing values"
   ]
  },
  {
   "cell_type": "markdown",
   "id": "646c555c",
   "metadata": {
    "papermill": {
     "duration": 0.033909,
     "end_time": "2022-02-05T01:51:10.032452",
     "exception": false,
     "start_time": "2022-02-05T01:51:09.998543",
     "status": "completed"
    },
    "tags": []
   },
   "source": [
    "#seeing the column names"
   ]
  },
  {
   "cell_type": "code",
   "execution_count": 6,
   "id": "d078fa97",
   "metadata": {
    "execution": {
     "iopub.execute_input": "2022-02-05T01:51:10.105392Z",
     "iopub.status.busy": "2022-02-05T01:51:10.104593Z",
     "iopub.status.idle": "2022-02-05T01:51:13.128558Z",
     "shell.execute_reply": "2022-02-05T01:51:13.129278Z",
     "shell.execute_reply.started": "2022-02-05T01:30:11.856236Z"
    },
    "papermill": {
     "duration": 3.064286,
     "end_time": "2022-02-05T01:51:13.129490",
     "exception": false,
     "start_time": "2022-02-05T01:51:10.065204",
     "status": "completed"
    },
    "tags": []
   },
   "outputs": [
    {
     "data": {
      "text/plain": [
       "Text(0.5, 1.0, 'Missing values in test data')"
      ]
     },
     "execution_count": 6,
     "metadata": {},
     "output_type": "execute_result"
    },
    {
     "data": {
      "image/png": "[encoded data removed]",
      "text/plain": [
       "<Figure size 1800x792 with 2 Axes>"
      ]
     },
     "metadata": {
      "needs_background": "light"
     },
     "output_type": "display_data"
    }
   ],
   "source": [
    "plt.figure(figsize=(25,11))\n",
    "sns.heatmap(test.isna(),xticklabels = test.columns)\n",
    "plt.title(\"Missing values in test data\")"
   ]
  },
  {
   "cell_type": "markdown",
   "id": "d73cb9a4",
   "metadata": {
    "papermill": {
     "duration": 0.035922,
     "end_time": "2022-02-05T01:51:13.202842",
     "exception": false,
     "start_time": "2022-02-05T01:51:13.166920",
     "status": "completed"
    },
    "tags": []
   },
   "source": [
    "Checking columns one by one"
   ]
  },
  {
   "cell_type": "code",
   "execution_count": 7,
   "id": "e685dc7a",
   "metadata": {
    "execution": {
     "iopub.execute_input": "2022-02-05T01:51:13.308324Z",
     "iopub.status.busy": "2022-02-05T01:51:13.307319Z",
     "iopub.status.idle": "2022-02-05T01:51:13.353206Z",
     "shell.execute_reply": "2022-02-05T01:51:13.354266Z",
     "shell.execute_reply.started": "2022-02-05T01:30:14.870507Z"
    },
    "papermill": {
     "duration": 0.116022,
     "end_time": "2022-02-05T01:51:13.354612",
     "exception": false,
     "start_time": "2022-02-05T01:51:13.238590",
     "status": "completed"
    },
    "tags": []
   },
   "outputs": [
    {
     "name": "stdout",
     "output_type": "stream",
     "text": [
      "total null values of energy_star_rating is:  26709\n",
      "type of train energy_star_rating float64\n",
      "\n",
      "after imputation \n",
      "total null values of energy_star_rating is:  0\n",
      "\n",
      "\n",
      "\n",
      "total null values of energy_star_rating is:  1837\n",
      "type of train energy_star_rating float64\n",
      "\n",
      "after imputation \n",
      "total null values of year_built is:  0\n",
      "\n",
      "\n",
      "\n",
      "total null values of direction_max_wind_speed is:  41082\n",
      "type of train direction_max_wind_speed float64\n",
      "\n",
      "after imputation \n",
      "total null values of direction_max_wind_speed is:  0\n",
      "\n",
      "\n",
      "\n",
      "total null values of max_wind_speed is:  41082\n",
      "type of train max_wind_speed float64\n",
      "\n",
      "after imputation \n",
      "total null values of max_wind_speed is:  0\n",
      "\n",
      "\n",
      "\n",
      "total null values of direction_peak_wind_speed is:  41811\n",
      "type of train direction_peak_wind_speed float64\n",
      "\n",
      "after imputation \n",
      "total null values of direction_peak_wind_speed is:  0\n",
      "\n",
      "\n",
      "\n",
      "total null values of days_with_fog is:  45796\n",
      "type of train days_with_fog float64\n",
      "\n",
      "after imputation \n",
      "total null values of days_with_fog is:  0\n",
      "\n",
      "\n",
      "\n",
      "total null values of direction_max_wind_speed is:  8575\n",
      "type of train direction_max_wind_speed float64\n",
      "\n",
      "after imputation \n",
      "total null values of direction_max_wind_speed is:  0\n",
      "\n",
      "\n",
      "\n",
      "total null values of energy_star_rating is:  2254\n",
      "type of train energy_star_rating float64\n",
      "\n",
      "after imputation \n",
      "total null values of energy_star_rating is:  0\n",
      "\n",
      "\n",
      "\n",
      "total null values of year_built is:  92\n",
      "type of test year_built float64\n",
      "\n",
      "after imputation \n",
      "total null values of year_built is:  0\n",
      "\n",
      "\n",
      "\n",
      "total null values of direction_peak_wind_speed is:  8575\n",
      "type of test direction_peak_wind_speed float64\n",
      "\n",
      "after imputation \n",
      "total null values of direction_peak_wind_speed is:  0\n",
      "\n",
      "\n",
      "\n",
      "total null values of max_wind_speed is:  8575\n",
      "type of test max_wind_speed float64\n",
      "\n",
      "after imputation \n",
      "total null values of max_wind_speed is:  0\n",
      "\n",
      "\n",
      "\n",
      "total null values of days_with_fog is:  9117\n",
      "type of test days_with_fog float64\n",
      "\n",
      "after imputation \n",
      "total null values of days_with_fog is:  0\n",
      "\n",
      "\n",
      "\n"
     ]
    }
   ],
   "source": [
    "#energy star rating\n",
    "print(\"total null values of energy_star_rating is: \", train[\"energy_star_rating\"].isna().sum())\n",
    "print(\"type of train energy_star_rating\", train[\"energy_star_rating\"].dtype)\n",
    "\n",
    "#the data is in float so we can impute data \n",
    "train[\"energy_star_rating\"].fillna(train[\"energy_star_rating\"].mean(), inplace = True)\n",
    "print(\"\\nafter imputation \\ntotal null values of energy_star_rating is: \", train[\"energy_star_rating\"].isna().sum())\n",
    "print(\"\\n\\n\")\n",
    "\n",
    "#year_built\n",
    "print(\"total null values of energy_star_rating is: \", train[\"year_built\"].isna().sum())\n",
    "print(\"type of train energy_star_rating\", train[\"year_built\"].dtype)\n",
    "\n",
    "#the data is in float so we can impute data \n",
    "train[\"year_built\"].fillna(train[\"year_built\"].mean(), inplace = True)\n",
    "print(\"\\nafter imputation \\ntotal null values of year_built is: \", train[\"year_built\"].isna().sum())\n",
    "print(\"\\n\\n\")\n",
    "\n",
    "#direction_max_wind_speed\n",
    "print(\"total null values of direction_max_wind_speed is: \", train[\"direction_max_wind_speed\"].isna().sum())\n",
    "print(\"type of train direction_max_wind_speed\", train[\"direction_max_wind_speed\"].dtype)\n",
    "#the data is in float so we can impute data \n",
    "train[\"direction_max_wind_speed\"].fillna(train[\"direction_max_wind_speed\"].mean(), inplace = True)\n",
    "print(\"\\nafter imputation \\ntotal null values of direction_max_wind_speed is: \", train[\"direction_max_wind_speed\"].isna().sum())\n",
    "print(\"\\n\\n\")\n",
    "\n",
    "#max_wind_speed\n",
    "print(\"total null values of max_wind_speed is: \", train[\"max_wind_speed\"].isna().sum())\n",
    "print(\"type of train max_wind_speed\", train[\"max_wind_speed\"].dtype)\n",
    "#the data is in float so we can impute data \n",
    "train[\"max_wind_speed\"].fillna(train[\"max_wind_speed\"].mean(), inplace = True)\n",
    "print(\"\\nafter imputation \\ntotal null values of max_wind_speed is: \", train[\"max_wind_speed\"].isna().sum())\n",
    "print(\"\\n\\n\")\n",
    "\n",
    "#direction_peak_wind_speed\n",
    "print(\"total null values of direction_peak_wind_speed is: \", train[\"direction_peak_wind_speed\"].isna().sum())\n",
    "print(\"type of train direction_peak_wind_speed\", train[\"direction_peak_wind_speed\"].dtype)\n",
    "#the data is in float so we can impute data \n",
    "train[\"direction_peak_wind_speed\"].fillna(train[\"direction_peak_wind_speed\"].mean(), inplace = True)\n",
    "print(\"\\nafter imputation \\ntotal null values of direction_peak_wind_speed is: \", train[\"direction_peak_wind_speed\"].isna().sum())\n",
    "print(\"\\n\\n\")\n",
    "\n",
    "#days_with_fog\n",
    "print(\"total null values of days_with_fog is: \", train[\"days_with_fog\"].isna().sum())\n",
    "print(\"type of train days_with_fog\", train[\"days_with_fog\"].dtype)\n",
    "#the data is in float so we can impute data \n",
    "train[\"days_with_fog\"].fillna(train[\"days_with_fog\"].mean(), inplace = True)\n",
    "print(\"\\nafter imputation \\ntotal null values of days_with_fog is: \", train[\"days_with_fog\"].isna().sum())\n",
    "print(\"\\n\\n\")\n",
    "\n",
    "#direction_max_wind_speed\n",
    "print(\"total null values of direction_max_wind_speed is: \", test[\"direction_max_wind_speed\"].isna().sum())\n",
    "print(\"type of train direction_max_wind_speed\", test[\"direction_max_wind_speed\"].dtype)\n",
    "\n",
    "#the data is in float so we can impute data \n",
    "test[\"direction_max_wind_speed\"].fillna(test[\"direction_max_wind_speed\"].mean(), inplace = True)\n",
    "print(\"\\nafter imputation \\ntotal null values of direction_max_wind_speed is: \", test[\"direction_max_wind_speed\"].isna().sum())\n",
    "print(\"\\n\\n\")\n",
    "\n",
    "##for test\n",
    "\n",
    "print(\"total null values of energy_star_rating is: \", test[\"energy_star_rating\"].isna().sum())\n",
    "print(\"type of train energy_star_rating\", test[\"energy_star_rating\"].dtype)\n",
    "\n",
    "#the data is in float so we can impute data \n",
    "test[\"energy_star_rating\"].fillna(test[\"energy_star_rating\"].mean(), inplace = True)\n",
    "print(\"\\nafter imputation \\ntotal null values of energy_star_rating is: \", test[\"energy_star_rating\"].isna().sum())\n",
    "print(\"\\n\\n\")\n",
    "\n",
    "#year_built\n",
    "print(\"total null values of year_built is: \", test[\"year_built\"].isna().sum())\n",
    "print(\"type of test year_built\", test[\"year_built\"].dtype)\n",
    "\n",
    "\n",
    "\n",
    "#the data is in float so we can impute data \n",
    "test[\"year_built\"].fillna(test[\"year_built\"].mean(), inplace = True)\n",
    "print(\"\\nafter imputation \\ntotal null values of year_built is: \", test[\"year_built\"].isna().sum())\n",
    "print(\"\\n\\n\")\n",
    "\n",
    "#direction_peak_wind_speed\n",
    "print(\"total null values of direction_peak_wind_speed is: \", test[\"direction_peak_wind_speed\"].isna().sum())\n",
    "print(\"type of test direction_peak_wind_speed\", test[\"direction_peak_wind_speed\"].dtype)\n",
    "\n",
    "#the data is in float so we can impute data \n",
    "test[\"direction_peak_wind_speed\"].fillna(test[\"direction_peak_wind_speed\"].mean(), inplace = True)\n",
    "print(\"\\nafter imputation \\ntotal null values of direction_peak_wind_speed is: \", test[\"direction_peak_wind_speed\"].isna().sum())\n",
    "print(\"\\n\\n\")\n",
    "\n",
    "#max_wind_speed\n",
    "print(\"total null values of max_wind_speed is: \", test[\"max_wind_speed\"].isna().sum())\n",
    "print(\"type of test max_wind_speed\", test[\"max_wind_speed\"].dtype)\n",
    "\n",
    "#the data is in float so we can impute data \n",
    "test[\"max_wind_speed\"].fillna(test[\"max_wind_speed\"].mean(), inplace = True)\n",
    "print(\"\\nafter imputation \\ntotal null values of max_wind_speed is: \", test[\"max_wind_speed\"].isna().sum())\n",
    "print(\"\\n\\n\")\n",
    "\n",
    "#days_with_fog\n",
    "print(\"total null values of days_with_fog is: \", test[\"days_with_fog\"].isna().sum())\n",
    "print(\"type of test days_with_fog\", test[\"days_with_fog\"].dtype)\n",
    "\n",
    "#the data is in float so we can impute data \n",
    "test[\"days_with_fog\"].fillna(test[\"days_with_fog\"].mean(), inplace = True)\n",
    "print(\"\\nafter imputation \\ntotal null values of days_with_fog is: \", test[\"days_with_fog\"].isna().sum())\n",
    "print(\"\\n\\n\")\n",
    "\n"
   ]
  },
  {
   "cell_type": "markdown",
   "id": "79d3c7e7",
   "metadata": {
    "papermill": {
     "duration": 0.035653,
     "end_time": "2022-02-05T01:51:13.428971",
     "exception": false,
     "start_time": "2022-02-05T01:51:13.393318",
     "status": "completed"
    },
    "tags": []
   },
   "source": [
    "plotting heatmap after imputation"
   ]
  },
  {
   "cell_type": "code",
   "execution_count": 8,
   "id": "1618ac11",
   "metadata": {
    "execution": {
     "iopub.execute_input": "2022-02-05T01:51:13.507943Z",
     "iopub.status.busy": "2022-02-05T01:51:13.507152Z",
     "iopub.status.idle": "2022-02-05T01:51:22.055740Z",
     "shell.execute_reply": "2022-02-05T01:51:22.056200Z",
     "shell.execute_reply.started": "2022-02-05T01:30:15.188009Z"
    },
    "papermill": {
     "duration": 8.591304,
     "end_time": "2022-02-05T01:51:22.056370",
     "exception": false,
     "start_time": "2022-02-05T01:51:13.465066",
     "status": "completed"
    },
    "tags": []
   },
   "outputs": [
    {
     "data": {
      "text/plain": [
       "Text(0.5, 1.0, 'Missing values in training data')"
      ]
     },
     "execution_count": 8,
     "metadata": {},
     "output_type": "execute_result"
    },
    {
     "data": {
      "image/png": "[encoded data removed]",
      "text/plain": [
       "<Figure size 1800x792 with 2 Axes>"
      ]
     },
     "metadata": {
      "needs_background": "light"
     },
     "output_type": "display_data"
    }
   ],
   "source": [
    "plt.figure(figsize=(25,11))\n",
    "sns.heatmap(train.isna(), xticklabels = train.columns)\n",
    "plt.title(\"Missing values in training data\")"
   ]
  },
  {
   "cell_type": "code",
   "execution_count": 9,
   "id": "b1280a7b",
   "metadata": {
    "execution": {
     "iopub.execute_input": "2022-02-05T01:51:22.139671Z",
     "iopub.status.busy": "2022-02-05T01:51:22.139029Z",
     "iopub.status.idle": "2022-02-05T01:51:25.269758Z",
     "shell.execute_reply": "2022-02-05T01:51:25.270331Z",
     "shell.execute_reply.started": "2022-02-05T01:30:23.615634Z"
    },
    "papermill": {
     "duration": 3.173398,
     "end_time": "2022-02-05T01:51:25.270505",
     "exception": false,
     "start_time": "2022-02-05T01:51:22.097107",
     "status": "completed"
    },
    "tags": []
   },
   "outputs": [
    {
     "data": {
      "text/plain": [
       "Text(0.5, 1.0, 'Missing values in test data')"
      ]
     },
     "execution_count": 9,
     "metadata": {},
     "output_type": "execute_result"
    },
    {
     "data": {
      "image/png": "[encoded data removed]",
      "text/plain": [
       "<Figure size 1800x792 with 2 Axes>"
      ]
     },
     "metadata": {
      "needs_background": "light"
     },
     "output_type": "display_data"
    }
   ],
   "source": [
    "plt.figure(figsize=(25,11))\n",
    "sns.heatmap(test.isna(), xticklabels = test.columns)\n",
    "plt.title(\"Missing values in test data\")"
   ]
  },
  {
   "cell_type": "markdown",
   "id": "c5ba6ce0",
   "metadata": {
    "papermill": {
     "duration": 0.042499,
     "end_time": "2022-02-05T01:51:25.356368",
     "exception": false,
     "start_time": "2022-02-05T01:51:25.313869",
     "status": "completed"
    },
    "tags": []
   },
   "source": [
    "Seperating numerical and categorical data for preprocessing"
   ]
  },
  {
   "cell_type": "code",
   "execution_count": 10,
   "id": "e3ae4ea0",
   "metadata": {
    "execution": {
     "iopub.execute_input": "2022-02-05T01:51:25.455846Z",
     "iopub.status.busy": "2022-02-05T01:51:25.454734Z",
     "iopub.status.idle": "2022-02-05T01:51:25.461383Z",
     "shell.execute_reply": "2022-02-05T01:51:25.460706Z",
     "shell.execute_reply.started": "2022-02-05T01:30:26.655771Z"
    },
    "papermill": {
     "duration": 0.060072,
     "end_time": "2022-02-05T01:51:25.461544",
     "exception": false,
     "start_time": "2022-02-05T01:51:25.401472",
     "status": "completed"
    },
    "tags": []
   },
   "outputs": [
    {
     "name": "stdout",
     "output_type": "stream",
     "text": [
      "total train data (75757, 64)\n",
      "\n",
      "length of numerical features 61 \n",
      "\n",
      " numerical features ['Year_Factor', 'floor_area', 'year_built', 'energy_star_rating', 'ELEVATION', 'january_min_temp', 'january_avg_temp', 'january_max_temp', 'february_min_temp', 'february_avg_temp', 'february_max_temp', 'march_min_temp', 'march_avg_temp', 'march_max_temp', 'april_min_temp', 'april_avg_temp', 'april_max_temp', 'may_min_temp', 'may_avg_temp', 'may_max_temp', 'june_min_temp', 'june_avg_temp', 'june_max_temp', 'july_min_temp', 'july_avg_temp', 'july_max_temp', 'august_min_temp', 'august_avg_temp', 'august_max_temp', 'september_min_temp', 'september_avg_temp', 'september_max_temp', 'october_min_temp', 'october_avg_temp', 'october_max_temp', 'november_min_temp', 'november_avg_temp', 'november_max_temp', 'december_min_temp', 'december_avg_temp', 'december_max_temp', 'cooling_degree_days', 'heating_degree_days', 'precipitation_inches', 'snowfall_inches', 'snowdepth_inches', 'avg_temp', 'days_below_30F', 'days_below_20F', 'days_below_10F', 'days_below_0F', 'days_above_80F', 'days_above_90F', 'days_above_100F', 'days_above_110F', 'direction_max_wind_speed', 'direction_peak_wind_speed', 'max_wind_speed', 'days_with_fog', 'site_eui', 'id'] \n",
      "\n",
      "\n",
      "\n",
      "\n",
      "\n",
      "length of categorical feature 3 \n",
      "\n",
      " categorical features ['State_Factor', 'building_class', 'facility_type'] \n",
      "\n",
      "\n",
      "\n",
      "\n"
     ]
    }
   ],
   "source": [
    "numerical_feature = []\n",
    "categorical_feature = []\n",
    "train_columns = train.columns\n",
    "print(\"total train data\",train.shape)\n",
    "\n",
    "for col in train_columns:\n",
    "    if train[col].dtype=='int64' or train[col].dtype=='float64':\n",
    "        numerical_feature.append(col)\n",
    "    else:\n",
    "        categorical_feature.append(col)\n",
    "print(\"\\nlength of numerical features\",len(numerical_feature),\"\\n\\n\", \"numerical features\",numerical_feature , \"\\n\\n\\n\\n\")\n",
    "print(\"\\nlength of categorical feature\",len(categorical_feature),\"\\n\\n\", \"categorical features\",categorical_feature ,\"\\n\\n\\n\\n\")"
   ]
  },
  {
   "cell_type": "markdown",
   "id": "918ff159",
   "metadata": {
    "papermill": {
     "duration": 0.045299,
     "end_time": "2022-02-05T01:51:25.552408",
     "exception": false,
     "start_time": "2022-02-05T01:51:25.507109",
     "status": "completed"
    },
    "tags": []
   },
   "source": [
    "***Working with categorical data***"
   ]
  },
  {
   "cell_type": "markdown",
   "id": "4de5cf08",
   "metadata": {
    "papermill": {
     "duration": 0.042784,
     "end_time": "2022-02-05T01:51:25.638775",
     "exception": false,
     "start_time": "2022-02-05T01:51:25.595991",
     "status": "completed"
    },
    "tags": []
   },
   "source": [
    "categorical feature plots"
   ]
  },
  {
   "cell_type": "code",
   "execution_count": 11,
   "id": "2c192221",
   "metadata": {
    "execution": {
     "iopub.execute_input": "2022-02-05T01:51:25.728573Z",
     "iopub.status.busy": "2022-02-05T01:51:25.727937Z",
     "iopub.status.idle": "2022-02-05T01:51:27.460133Z",
     "shell.execute_reply": "2022-02-05T01:51:27.459467Z",
     "shell.execute_reply.started": "2022-02-05T01:30:27.175033Z"
    },
    "papermill": {
     "duration": 1.778305,
     "end_time": "2022-02-05T01:51:27.460282",
     "exception": false,
     "start_time": "2022-02-05T01:51:25.681977",
     "status": "completed"
    },
    "tags": []
   },
   "outputs": [
    {
     "data": {
      "image/png": "[encoded data removed]",
      "text/plain": [
       "<Figure size 720x360 with 1 Axes>"
      ]
     },
     "metadata": {
      "needs_background": "light"
     },
     "output_type": "display_data"
    },
    {
     "data": {
      "image/png": "[encoded data removed]",
      "text/plain": [
       "<Figure size 720x360 with 1 Axes>"
      ]
     },
     "metadata": {
      "needs_background": "light"
     },
     "output_type": "display_data"
    },
    {
     "data": {
      "image/png": "[encoded data removed]",
      "text/plain": [
       "<Figure size 720x360 with 1 Axes>"
      ]
     },
     "metadata": {
      "needs_background": "light"
     },
     "output_type": "display_data"
    }
   ],
   "source": [
    "for feature in categorical_feature:\n",
    "    plt.figure(figsize=(10,5))\n",
    "    sns.countplot(train[feature])\n",
    "    plt.title(\"frequency of \"+feature)\n",
    "    plt.show()"
   ]
  },
  {
   "cell_type": "markdown",
   "id": "611ec25d",
   "metadata": {
    "papermill": {
     "duration": 0.044807,
     "end_time": "2022-02-05T01:51:27.551579",
     "exception": false,
     "start_time": "2022-02-05T01:51:27.506772",
     "status": "completed"
    },
    "tags": []
   },
   "source": [
    "Label encoding the categorical features"
   ]
  },
  {
   "cell_type": "code",
   "execution_count": 12,
   "id": "fc9d72f4",
   "metadata": {
    "execution": {
     "iopub.execute_input": "2022-02-05T01:51:27.673456Z",
     "iopub.status.busy": "2022-02-05T01:51:27.660699Z",
     "iopub.status.idle": "2022-02-05T01:51:27.731613Z",
     "shell.execute_reply": "2022-02-05T01:51:27.730876Z",
     "shell.execute_reply.started": "2022-02-05T01:30:29.191362Z"
    },
    "papermill": {
     "duration": 0.132881,
     "end_time": "2022-02-05T01:51:27.731780",
     "exception": false,
     "start_time": "2022-02-05T01:51:27.598899",
     "status": "completed"
    },
    "tags": []
   },
   "outputs": [],
   "source": [
    "label_encoder = LabelEncoder()\n",
    "train['State_Factor'] = label_encoder.fit_transform(train['State_Factor']).astype(\"uint8\")\n",
    "test['State_Factor'] = label_encoder.fit_transform(test['State_Factor']).astype(\"uint8\")\n",
    "\n",
    "train['building_class'] = label_encoder.fit_transform(train['building_class']).astype(\"uint8\")\n",
    "test['building_class'] = label_encoder.fit_transform(test['building_class']).astype(\"uint8\")\n",
    "\n",
    "train['facility_type'] = label_encoder.fit_transform(train['facility_type']).astype(\"uint8\")\n",
    "test['facility_type'] = label_encoder.fit_transform(test['facility_type']).astype(\"uint8\")"
   ]
  },
  {
   "cell_type": "code",
   "execution_count": 13,
   "id": "714bb60e",
   "metadata": {
    "execution": {
     "iopub.execute_input": "2022-02-05T01:51:27.830086Z",
     "iopub.status.busy": "2022-02-05T01:51:27.829206Z",
     "iopub.status.idle": "2022-02-05T01:51:27.839066Z",
     "shell.execute_reply": "2022-02-05T01:51:27.838376Z",
     "shell.execute_reply.started": "2022-02-05T01:30:31.958150Z"
    },
    "papermill": {
     "duration": 0.061346,
     "end_time": "2022-02-05T01:51:27.839215",
     "exception": false,
     "start_time": "2022-02-05T01:51:27.777869",
     "status": "completed"
    },
    "tags": []
   },
   "outputs": [
    {
     "name": "stdout",
     "output_type": "stream",
     "text": [
      "State_Factor [0 1 2 3 4 5 6]\n",
      "building_class [0 1]\n",
      "facility_type [ 0  1  2  3  4  5  6  7  8  9 10 11 12 13 14 15 16 17 18 19 20 21 22 23\n",
      " 24 25 26 27 28 29 30 31 32 33 34 35 36 37 38 39 40 41 42 43 44 45 46 47\n",
      " 48 49 50 51 52 53 54 55 56 57 58 59]\n"
     ]
    }
   ],
   "source": [
    "print(\"State_Factor\",np.unique(train['State_Factor']))\n",
    "print(\"building_class\",np.unique(train['building_class']))\n",
    "print(\"facility_type\",np.unique(train['facility_type']))"
   ]
  },
  {
   "cell_type": "markdown",
   "id": "cb90c5c7",
   "metadata": {
    "papermill": {
     "duration": 0.047181,
     "end_time": "2022-02-05T01:51:27.932518",
     "exception": false,
     "start_time": "2022-02-05T01:51:27.885337",
     "status": "completed"
    },
    "tags": []
   },
   "source": [
    "Range Normalization"
   ]
  },
  {
   "cell_type": "code",
   "execution_count": 14,
   "id": "dca32b2d",
   "metadata": {
    "execution": {
     "iopub.execute_input": "2022-02-05T01:51:28.031906Z",
     "iopub.status.busy": "2022-02-05T01:51:28.030880Z",
     "iopub.status.idle": "2022-02-05T01:51:28.123098Z",
     "shell.execute_reply": "2022-02-05T01:51:28.122391Z",
     "shell.execute_reply.started": "2022-02-05T01:30:34.063170Z"
    },
    "papermill": {
     "duration": 0.145048,
     "end_time": "2022-02-05T01:51:28.123265",
     "exception": false,
     "start_time": "2022-02-05T01:51:27.978217",
     "status": "completed"
    },
    "tags": []
   },
   "outputs": [
    {
     "name": "stdout",
     "output_type": "stream",
     "text": [
      "Year_Factor ---------------------------------------- min 1     max 6\n",
      "State_Factor ---------------------------------------- min 0     max 6\n",
      "building_class ---------------------------------------- min 0     max 1\n",
      "facility_type ---------------------------------------- min 0     max 59\n",
      "floor_area ---------------------------------------- min 943.0     max 6385382.0\n",
      "year_built ---------------------------------------- min 0.0     max 2015.0\n",
      "energy_star_rating ---------------------------------------- min 0.0     max 100.0\n",
      "ELEVATION ---------------------------------------- min -6.4     max 1924.5\n",
      "january_min_temp ---------------------------------------- min -19     max 49\n",
      "january_avg_temp ---------------------------------------- min 10.80645161     max 64.75806452\n",
      "january_max_temp ---------------------------------------- min 42     max 91\n",
      "february_min_temp ---------------------------------------- min -13     max 48\n",
      "february_avg_temp ---------------------------------------- min 13.25     max 65.10714286\n",
      "february_max_temp ---------------------------------------- min 38     max 89\n",
      "march_min_temp ---------------------------------------- min -9     max 52\n",
      "march_avg_temp ---------------------------------------- min 25.85483871     max 69.75806452\n",
      "march_max_temp ---------------------------------------- min 53     max 95\n",
      "april_min_temp ---------------------------------------- min 15     max 52\n",
      "april_avg_temp ---------------------------------------- min 40.28     max 74.5\n",
      "april_max_temp ---------------------------------------- min 62     max 104\n",
      "may_min_temp ---------------------------------------- min 23     max 58\n",
      "may_avg_temp ---------------------------------------- min 46.95     max 82.11290323\n",
      "may_max_temp ---------------------------------------- min 64     max 112\n",
      "june_min_temp ---------------------------------------- min 30     max 68\n",
      "june_avg_temp ---------------------------------------- min 54.1     max 89.55\n",
      "june_max_temp ---------------------------------------- min 67     max 119\n",
      "july_min_temp ---------------------------------------- min 37     max 74\n",
      "july_avg_temp ---------------------------------------- min 54.82258065     max 94.43548387\n",
      "july_max_temp ---------------------------------------- min 65     max 117\n",
      "august_min_temp ---------------------------------------- min 31     max 77\n",
      "august_avg_temp ---------------------------------------- min 56.69354839     max 94.90322581\n",
      "august_max_temp ---------------------------------------- min 66     max 116\n",
      "september_min_temp ---------------------------------------- min 26     max 65\n",
      "september_avg_temp ---------------------------------------- min 53.6     max 90.11666667\n",
      "september_max_temp ---------------------------------------- min 64     max 111\n",
      "october_min_temp ---------------------------------------- min 18     max 61\n",
      "october_avg_temp ---------------------------------------- min 44.69354839     max 80.74193548\n",
      "october_max_temp ---------------------------------------- min 59     max 108\n",
      "november_min_temp ---------------------------------------- min 4     max 52\n",
      "november_avg_temp ---------------------------------------- min 30.76666667     max 67.41666667\n",
      "november_max_temp ---------------------------------------- min 53     max 96\n",
      "december_min_temp ---------------------------------------- min -16     max 44\n",
      "december_avg_temp ---------------------------------------- min 23.79032258     max 61.79032258\n",
      "december_max_temp ---------------------------------------- min 42     max 86\n",
      "cooling_degree_days ---------------------------------------- min 0     max 4948\n",
      "heating_degree_days ---------------------------------------- min 398     max 7929\n",
      "precipitation_inches ---------------------------------------- min 0.0     max 107.69\n",
      "snowfall_inches ---------------------------------------- min 0.0     max 127.3\n",
      "snowdepth_inches ---------------------------------------- min 0     max 1292\n",
      "avg_temp ---------------------------------------- min 44.51232877     max 77.24520548\n",
      "days_below_30F ---------------------------------------- min 0     max 170\n",
      "days_below_20F ---------------------------------------- min 0     max 93\n",
      "days_below_10F ---------------------------------------- min 0     max 59\n",
      "days_below_0F ---------------------------------------- min 0     max 31\n",
      "days_above_80F ---------------------------------------- min 0     max 260\n",
      "days_above_90F ---------------------------------------- min 0     max 185\n",
      "days_above_100F ---------------------------------------- min 0     max 119\n",
      "days_above_110F ---------------------------------------- min 0     max 16\n",
      "direction_max_wind_speed ---------------------------------------- min 1.0     max 360.0\n",
      "direction_peak_wind_speed ---------------------------------------- min 1.0     max 360.0\n",
      "max_wind_speed ---------------------------------------- min 1.0     max 23.3\n",
      "days_with_fog ---------------------------------------- min 12.0     max 311.0\n",
      "site_eui ---------------------------------------- min 1.001169302     max 997.8661202\n",
      "id ---------------------------------------- min 0     max 75756\n"
     ]
    }
   ],
   "source": [
    "for column in train:\n",
    "    print(column, \"--\"*20,\"min\", np.min(train[column]), \"    max\",np.max(train[column]))"
   ]
  },
  {
   "cell_type": "markdown",
   "id": "24886727",
   "metadata": {
    "papermill": {
     "duration": 0.047711,
     "end_time": "2022-02-05T01:51:28.218196",
     "exception": false,
     "start_time": "2022-02-05T01:51:28.170485",
     "status": "completed"
    },
    "tags": []
   },
   "source": [
    "Scaling"
   ]
  },
  {
   "cell_type": "code",
   "execution_count": 15,
   "id": "de9d03ad",
   "metadata": {
    "execution": {
     "iopub.execute_input": "2022-02-05T01:51:28.321172Z",
     "iopub.status.busy": "2022-02-05T01:51:28.320348Z",
     "iopub.status.idle": "2022-02-05T01:51:28.407821Z",
     "shell.execute_reply": "2022-02-05T01:51:28.407167Z",
     "shell.execute_reply.started": "2022-02-05T01:30:40.206909Z"
    },
    "papermill": {
     "duration": 0.142846,
     "end_time": "2022-02-05T01:51:28.407987",
     "exception": false,
     "start_time": "2022-02-05T01:51:28.265141",
     "status": "completed"
    },
    "tags": []
   },
   "outputs": [],
   "source": [
    "# scaler = StandardScaler()\n",
    "# trained_scaled_data = scaler.fit_transform(train)\n",
    "# train = pd.DataFrame(trained_scaled_data, index=train.index, columns=train.columns)\n",
    "\n",
    "# scaler = StandardScaler()\n",
    "# test_scaled_data = scaler.fit_transform(test)\n",
    "# test = pd.DataFrame(test_scaled_data, index=test.index, columns=test.columns)\n",
    "\n",
    "from sklearn.preprocessing import MinMaxScaler\n",
    "\n",
    "train_scaler = MinMaxScaler()\n",
    "train_scaler.fit(train)\n",
    "train_scaled = train_scaler.transform(train)\n",
    "\n",
    "test_scaler = MinMaxScaler()\n",
    "test_scaler.fit(test)\n",
    "test_scaled = test_scaler.transform(test)\n"
   ]
  },
  {
   "cell_type": "code",
   "execution_count": 16,
   "id": "da7a3e93",
   "metadata": {
    "execution": {
     "iopub.execute_input": "2022-02-05T01:51:28.507468Z",
     "iopub.status.busy": "2022-02-05T01:51:28.506687Z",
     "iopub.status.idle": "2022-02-05T01:51:28.509490Z",
     "shell.execute_reply": "2022-02-05T01:51:28.509992Z",
     "shell.execute_reply.started": "2022-02-05T01:30:44.175728Z"
    },
    "papermill": {
     "duration": 0.055281,
     "end_time": "2022-02-05T01:51:28.510177",
     "exception": false,
     "start_time": "2022-02-05T01:51:28.454896",
     "status": "completed"
    },
    "tags": []
   },
   "outputs": [],
   "source": [
    "train = pd.DataFrame(train_scaled, index=train.index, columns=train.columns)\n",
    "test = pd.DataFrame(test_scaled, index=test.index, columns=test.columns)"
   ]
  },
  {
   "cell_type": "code",
   "execution_count": 17,
   "id": "cf8d60e3",
   "metadata": {
    "execution": {
     "iopub.execute_input": "2022-02-05T01:51:28.610992Z",
     "iopub.status.busy": "2022-02-05T01:51:28.610249Z",
     "iopub.status.idle": "2022-02-05T01:51:28.854996Z",
     "shell.execute_reply": "2022-02-05T01:51:28.854436Z",
     "shell.execute_reply.started": "2022-02-05T01:31:05.938862Z"
    },
    "papermill": {
     "duration": 0.297776,
     "end_time": "2022-02-05T01:51:28.855146",
     "exception": false,
     "start_time": "2022-02-05T01:51:28.557370",
     "status": "completed"
    },
    "tags": []
   },
   "outputs": [],
   "source": [
    "from sklearn.linear_model import LinearRegression\n",
    "from sklearn.neighbors import KNeighborsRegressor\n",
    "from sklearn.tree import DecisionTreeRegressor\n",
    "from sklearn.ensemble import (RandomForestRegressor, GradientBoostingRegressor, \n",
    "                              AdaBoostRegressor)\n",
    "from sklearn.metrics import mean_squared_error"
   ]
  },
  {
   "cell_type": "code",
   "execution_count": 18,
   "id": "8f41b510",
   "metadata": {
    "execution": {
     "iopub.execute_input": "2022-02-05T01:51:28.973141Z",
     "iopub.status.busy": "2022-02-05T01:51:28.972018Z",
     "iopub.status.idle": "2022-02-05T01:51:28.974635Z",
     "shell.execute_reply": "2022-02-05T01:51:28.973992Z",
     "shell.execute_reply.started": "2022-02-05T01:31:20.338213Z"
    },
    "papermill": {
     "duration": 0.071063,
     "end_time": "2022-02-05T01:51:28.974796",
     "exception": false,
     "start_time": "2022-02-05T01:51:28.903733",
     "status": "completed"
    },
    "tags": []
   },
   "outputs": [],
   "source": [
    "y_train = train[\"site_eui\"]\n",
    "train.drop([\"site_eui\"], axis=1, inplace=True)\n",
    "X_train = train"
   ]
  },
  {
   "cell_type": "code",
   "execution_count": 19,
   "id": "1c77fa84",
   "metadata": {
    "execution": {
     "iopub.execute_input": "2022-02-05T01:51:29.075663Z",
     "iopub.status.busy": "2022-02-05T01:51:29.073216Z",
     "iopub.status.idle": "2022-02-05T01:51:29.078843Z",
     "shell.execute_reply": "2022-02-05T01:51:29.078273Z",
     "shell.execute_reply.started": "2022-02-05T01:31:30.751334Z"
    },
    "papermill": {
     "duration": 0.056852,
     "end_time": "2022-02-05T01:51:29.079068",
     "exception": false,
     "start_time": "2022-02-05T01:51:29.022216",
     "status": "completed"
    },
    "tags": []
   },
   "outputs": [
    {
     "data": {
      "text/plain": [
       "((75757, 63), (9705, 63))"
      ]
     },
     "execution_count": 19,
     "metadata": {},
     "output_type": "execute_result"
    }
   ],
   "source": [
    "X_train.shape, test.shape"
   ]
  },
  {
   "cell_type": "markdown",
   "id": "1cdd51e4",
   "metadata": {
    "papermill": {
     "duration": 0.047881,
     "end_time": "2022-02-05T01:51:29.174422",
     "exception": false,
     "start_time": "2022-02-05T01:51:29.126541",
     "status": "completed"
    },
    "tags": []
   },
   "source": [
    "after normalizing"
   ]
  },
  {
   "cell_type": "code",
   "execution_count": 20,
   "id": "f6c30e1b",
   "metadata": {
    "execution": {
     "iopub.execute_input": "2022-02-05T01:51:29.272410Z",
     "iopub.status.busy": "2022-02-05T01:51:29.271638Z",
     "iopub.status.idle": "2022-02-05T01:51:29.311105Z",
     "shell.execute_reply": "2022-02-05T01:51:29.311685Z",
     "shell.execute_reply.started": "2022-02-05T01:31:44.653694Z"
    },
    "papermill": {
     "duration": 0.090172,
     "end_time": "2022-02-05T01:51:29.311878",
     "exception": false,
     "start_time": "2022-02-05T01:51:29.221706",
     "status": "completed"
    },
    "tags": []
   },
   "outputs": [
    {
     "data": {
      "text/html": [
       "<div>\n",
       "<style scoped>\n",
       "    .dataframe tbody tr th:only-of-type {\n",
       "        vertical-align: middle;\n",
       "    }\n",
       "\n",
       "    .dataframe tbody tr th {\n",
       "        vertical-align: top;\n",
       "    }\n",
       "\n",
       "    .dataframe thead th {\n",
       "        text-align: right;\n",
       "    }\n",
       "</style>\n",
       "<table border=\"1\" class=\"dataframe\">\n",
       "  <thead>\n",
       "    <tr style=\"text-align: right;\">\n",
       "      <th></th>\n",
       "      <th>Year_Factor</th>\n",
       "      <th>State_Factor</th>\n",
       "      <th>building_class</th>\n",
       "      <th>facility_type</th>\n",
       "      <th>floor_area</th>\n",
       "      <th>year_built</th>\n",
       "      <th>energy_star_rating</th>\n",
       "      <th>ELEVATION</th>\n",
       "      <th>january_min_temp</th>\n",
       "      <th>january_avg_temp</th>\n",
       "      <th>...</th>\n",
       "      <th>days_below_0F</th>\n",
       "      <th>days_above_80F</th>\n",
       "      <th>days_above_90F</th>\n",
       "      <th>days_above_100F</th>\n",
       "      <th>days_above_110F</th>\n",
       "      <th>direction_max_wind_speed</th>\n",
       "      <th>direction_peak_wind_speed</th>\n",
       "      <th>max_wind_speed</th>\n",
       "      <th>days_with_fog</th>\n",
       "      <th>id</th>\n",
       "    </tr>\n",
       "  </thead>\n",
       "  <tbody>\n",
       "    <tr>\n",
       "      <th>0</th>\n",
       "      <td>0.0</td>\n",
       "      <td>0.000000</td>\n",
       "      <td>0.0</td>\n",
       "      <td>0.220339</td>\n",
       "      <td>0.009445</td>\n",
       "      <td>0.963772</td>\n",
       "      <td>0.110000</td>\n",
       "      <td>0.004557</td>\n",
       "      <td>0.808824</td>\n",
       "      <td>0.735725</td>\n",
       "      <td>...</td>\n",
       "      <td>0.0</td>\n",
       "      <td>0.053846</td>\n",
       "      <td>0.000000</td>\n",
       "      <td>0.0</td>\n",
       "      <td>0.0</td>\n",
       "      <td>0.000000</td>\n",
       "      <td>0.000000</td>\n",
       "      <td>0.000000</td>\n",
       "      <td>0.32489</td>\n",
       "      <td>0.000000</td>\n",
       "    </tr>\n",
       "    <tr>\n",
       "      <th>1</th>\n",
       "      <td>0.0</td>\n",
       "      <td>0.000000</td>\n",
       "      <td>0.0</td>\n",
       "      <td>0.932203</td>\n",
       "      <td>0.042769</td>\n",
       "      <td>0.970223</td>\n",
       "      <td>0.450000</td>\n",
       "      <td>0.004247</td>\n",
       "      <td>0.808824</td>\n",
       "      <td>0.735725</td>\n",
       "      <td>...</td>\n",
       "      <td>0.0</td>\n",
       "      <td>0.053846</td>\n",
       "      <td>0.000000</td>\n",
       "      <td>0.0</td>\n",
       "      <td>0.0</td>\n",
       "      <td>0.000000</td>\n",
       "      <td>0.172089</td>\n",
       "      <td>0.000000</td>\n",
       "      <td>0.00000</td>\n",
       "      <td>0.000013</td>\n",
       "    </tr>\n",
       "    <tr>\n",
       "      <th>2</th>\n",
       "      <td>0.0</td>\n",
       "      <td>0.000000</td>\n",
       "      <td>0.0</td>\n",
       "      <td>0.813559</td>\n",
       "      <td>0.043713</td>\n",
       "      <td>0.968238</td>\n",
       "      <td>0.970000</td>\n",
       "      <td>0.004247</td>\n",
       "      <td>0.808824</td>\n",
       "      <td>0.735725</td>\n",
       "      <td>...</td>\n",
       "      <td>0.0</td>\n",
       "      <td>0.053846</td>\n",
       "      <td>0.000000</td>\n",
       "      <td>0.0</td>\n",
       "      <td>0.0</td>\n",
       "      <td>0.000000</td>\n",
       "      <td>0.172089</td>\n",
       "      <td>0.000000</td>\n",
       "      <td>0.00000</td>\n",
       "      <td>0.000026</td>\n",
       "    </tr>\n",
       "    <tr>\n",
       "      <th>3</th>\n",
       "      <td>0.0</td>\n",
       "      <td>0.000000</td>\n",
       "      <td>0.0</td>\n",
       "      <td>0.101695</td>\n",
       "      <td>0.008518</td>\n",
       "      <td>0.982630</td>\n",
       "      <td>0.460000</td>\n",
       "      <td>0.004247</td>\n",
       "      <td>0.808824</td>\n",
       "      <td>0.735725</td>\n",
       "      <td>...</td>\n",
       "      <td>0.0</td>\n",
       "      <td>0.053846</td>\n",
       "      <td>0.000000</td>\n",
       "      <td>0.0</td>\n",
       "      <td>0.0</td>\n",
       "      <td>0.000000</td>\n",
       "      <td>0.172089</td>\n",
       "      <td>0.000000</td>\n",
       "      <td>0.00000</td>\n",
       "      <td>0.000040</td>\n",
       "    </tr>\n",
       "    <tr>\n",
       "      <th>4</th>\n",
       "      <td>0.0</td>\n",
       "      <td>0.000000</td>\n",
       "      <td>0.0</td>\n",
       "      <td>0.949153</td>\n",
       "      <td>0.010190</td>\n",
       "      <td>0.985112</td>\n",
       "      <td>1.000000</td>\n",
       "      <td>0.004557</td>\n",
       "      <td>0.808824</td>\n",
       "      <td>0.735725</td>\n",
       "      <td>...</td>\n",
       "      <td>0.0</td>\n",
       "      <td>0.053846</td>\n",
       "      <td>0.000000</td>\n",
       "      <td>0.0</td>\n",
       "      <td>0.0</td>\n",
       "      <td>0.000000</td>\n",
       "      <td>0.000000</td>\n",
       "      <td>0.000000</td>\n",
       "      <td>0.32489</td>\n",
       "      <td>0.000053</td>\n",
       "    </tr>\n",
       "    <tr>\n",
       "      <th>...</th>\n",
       "      <td>...</td>\n",
       "      <td>...</td>\n",
       "      <td>...</td>\n",
       "      <td>...</td>\n",
       "      <td>...</td>\n",
       "      <td>...</td>\n",
       "      <td>...</td>\n",
       "      <td>...</td>\n",
       "      <td>...</td>\n",
       "      <td>...</td>\n",
       "      <td>...</td>\n",
       "      <td>...</td>\n",
       "      <td>...</td>\n",
       "      <td>...</td>\n",
       "      <td>...</td>\n",
       "      <td>...</td>\n",
       "      <td>...</td>\n",
       "      <td>...</td>\n",
       "      <td>...</td>\n",
       "      <td>...</td>\n",
       "      <td>...</td>\n",
       "    </tr>\n",
       "    <tr>\n",
       "      <th>75752</th>\n",
       "      <td>1.0</td>\n",
       "      <td>0.333333</td>\n",
       "      <td>0.0</td>\n",
       "      <td>0.542373</td>\n",
       "      <td>0.003049</td>\n",
       "      <td>0.990074</td>\n",
       "      <td>0.080000</td>\n",
       "      <td>0.022269</td>\n",
       "      <td>0.691176</td>\n",
       "      <td>0.605082</td>\n",
       "      <td>...</td>\n",
       "      <td>0.0</td>\n",
       "      <td>0.096154</td>\n",
       "      <td>0.016216</td>\n",
       "      <td>0.0</td>\n",
       "      <td>0.0</td>\n",
       "      <td>0.182598</td>\n",
       "      <td>0.172089</td>\n",
       "      <td>0.143076</td>\n",
       "      <td>0.32489</td>\n",
       "      <td>0.999947</td>\n",
       "    </tr>\n",
       "    <tr>\n",
       "      <th>75753</th>\n",
       "      <td>1.0</td>\n",
       "      <td>0.333333</td>\n",
       "      <td>1.0</td>\n",
       "      <td>0.016949</td>\n",
       "      <td>0.006194</td>\n",
       "      <td>0.947891</td>\n",
       "      <td>0.980000</td>\n",
       "      <td>0.022269</td>\n",
       "      <td>0.691176</td>\n",
       "      <td>0.605082</td>\n",
       "      <td>...</td>\n",
       "      <td>0.0</td>\n",
       "      <td>0.096154</td>\n",
       "      <td>0.016216</td>\n",
       "      <td>0.0</td>\n",
       "      <td>0.0</td>\n",
       "      <td>0.182598</td>\n",
       "      <td>0.172089</td>\n",
       "      <td>0.143076</td>\n",
       "      <td>0.32489</td>\n",
       "      <td>0.999960</td>\n",
       "    </tr>\n",
       "    <tr>\n",
       "      <th>75754</th>\n",
       "      <td>1.0</td>\n",
       "      <td>0.333333</td>\n",
       "      <td>0.0</td>\n",
       "      <td>0.033898</td>\n",
       "      <td>0.004249</td>\n",
       "      <td>0.951365</td>\n",
       "      <td>0.610486</td>\n",
       "      <td>0.022269</td>\n",
       "      <td>0.661765</td>\n",
       "      <td>0.478326</td>\n",
       "      <td>...</td>\n",
       "      <td>0.0</td>\n",
       "      <td>0.023077</td>\n",
       "      <td>0.000000</td>\n",
       "      <td>0.0</td>\n",
       "      <td>0.0</td>\n",
       "      <td>0.182598</td>\n",
       "      <td>0.172089</td>\n",
       "      <td>0.143076</td>\n",
       "      <td>0.32489</td>\n",
       "      <td>0.999974</td>\n",
       "    </tr>\n",
       "    <tr>\n",
       "      <th>75755</th>\n",
       "      <td>1.0</td>\n",
       "      <td>0.333333</td>\n",
       "      <td>0.0</td>\n",
       "      <td>0.033898</td>\n",
       "      <td>0.008244</td>\n",
       "      <td>0.998511</td>\n",
       "      <td>0.610486</td>\n",
       "      <td>0.022269</td>\n",
       "      <td>0.661765</td>\n",
       "      <td>0.478326</td>\n",
       "      <td>...</td>\n",
       "      <td>0.0</td>\n",
       "      <td>0.023077</td>\n",
       "      <td>0.000000</td>\n",
       "      <td>0.0</td>\n",
       "      <td>0.0</td>\n",
       "      <td>0.182598</td>\n",
       "      <td>0.172089</td>\n",
       "      <td>0.143076</td>\n",
       "      <td>0.32489</td>\n",
       "      <td>0.999987</td>\n",
       "    </tr>\n",
       "    <tr>\n",
       "      <th>75756</th>\n",
       "      <td>1.0</td>\n",
       "      <td>0.333333</td>\n",
       "      <td>1.0</td>\n",
       "      <td>0.000000</td>\n",
       "      <td>0.003594</td>\n",
       "      <td>0.979653</td>\n",
       "      <td>0.510000</td>\n",
       "      <td>0.022269</td>\n",
       "      <td>0.676471</td>\n",
       "      <td>0.484305</td>\n",
       "      <td>...</td>\n",
       "      <td>0.0</td>\n",
       "      <td>0.061538</td>\n",
       "      <td>0.000000</td>\n",
       "      <td>0.0</td>\n",
       "      <td>0.0</td>\n",
       "      <td>0.182598</td>\n",
       "      <td>0.172089</td>\n",
       "      <td>0.143076</td>\n",
       "      <td>0.32489</td>\n",
       "      <td>1.000000</td>\n",
       "    </tr>\n",
       "  </tbody>\n",
       "</table>\n",
       "<p>75757 rows × 63 columns</p>\n",
       "</div>"
      ],
      "text/plain": [
       "       Year_Factor  State_Factor  building_class  facility_type  floor_area  \\\n",
       "0              0.0      0.000000             0.0       0.220339    0.009445   \n",
       "1              0.0      0.000000             0.0       0.932203    0.042769   \n",
       "2              0.0      0.000000             0.0       0.813559    0.043713   \n",
       "3              0.0      0.000000             0.0       0.101695    0.008518   \n",
       "4              0.0      0.000000             0.0       0.949153    0.010190   \n",
       "...            ...           ...             ...            ...         ...   \n",
       "75752          1.0      0.333333             0.0       0.542373    0.003049   \n",
       "75753          1.0      0.333333             1.0       0.016949    0.006194   \n",
       "75754          1.0      0.333333             0.0       0.033898    0.004249   \n",
       "75755          1.0      0.333333             0.0       0.033898    0.008244   \n",
       "75756          1.0      0.333333             1.0       0.000000    0.003594   \n",
       "\n",
       "       year_built  energy_star_rating  ELEVATION  january_min_temp  \\\n",
       "0        0.963772            0.110000   0.004557          0.808824   \n",
       "1        0.970223            0.450000   0.004247          0.808824   \n",
       "2        0.968238            0.970000   0.004247          0.808824   \n",
       "3        0.982630            0.460000   0.004247          0.808824   \n",
       "4        0.985112            1.000000   0.004557          0.808824   \n",
       "...           ...                 ...        ...               ...   \n",
       "75752    0.990074            0.080000   0.022269          0.691176   \n",
       "75753    0.947891            0.980000   0.022269          0.691176   \n",
       "75754    0.951365            0.610486   0.022269          0.661765   \n",
       "75755    0.998511            0.610486   0.022269          0.661765   \n",
       "75756    0.979653            0.510000   0.022269          0.676471   \n",
       "\n",
       "       january_avg_temp  ...  days_below_0F  days_above_80F  days_above_90F  \\\n",
       "0              0.735725  ...            0.0        0.053846        0.000000   \n",
       "1              0.735725  ...            0.0        0.053846        0.000000   \n",
       "2              0.735725  ...            0.0        0.053846        0.000000   \n",
       "3              0.735725  ...            0.0        0.053846        0.000000   \n",
       "4              0.735725  ...            0.0        0.053846        0.000000   \n",
       "...                 ...  ...            ...             ...             ...   \n",
       "75752          0.605082  ...            0.0        0.096154        0.016216   \n",
       "75753          0.605082  ...            0.0        0.096154        0.016216   \n",
       "75754          0.478326  ...            0.0        0.023077        0.000000   \n",
       "75755          0.478326  ...            0.0        0.023077        0.000000   \n",
       "75756          0.484305  ...            0.0        0.061538        0.000000   \n",
       "\n",
       "       days_above_100F  days_above_110F  direction_max_wind_speed  \\\n",
       "0                  0.0              0.0                  0.000000   \n",
       "1                  0.0              0.0                  0.000000   \n",
       "2                  0.0              0.0                  0.000000   \n",
       "3                  0.0              0.0                  0.000000   \n",
       "4                  0.0              0.0                  0.000000   \n",
       "...                ...              ...                       ...   \n",
       "75752              0.0              0.0                  0.182598   \n",
       "75753              0.0              0.0                  0.182598   \n",
       "75754              0.0              0.0                  0.182598   \n",
       "75755              0.0              0.0                  0.182598   \n",
       "75756              0.0              0.0                  0.182598   \n",
       "\n",
       "       direction_peak_wind_speed  max_wind_speed  days_with_fog        id  \n",
       "0                       0.000000        0.000000        0.32489  0.000000  \n",
       "1                       0.172089        0.000000        0.00000  0.000013  \n",
       "2                       0.172089        0.000000        0.00000  0.000026  \n",
       "3                       0.172089        0.000000        0.00000  0.000040  \n",
       "4                       0.000000        0.000000        0.32489  0.000053  \n",
       "...                          ...             ...            ...       ...  \n",
       "75752                   0.172089        0.143076        0.32489  0.999947  \n",
       "75753                   0.172089        0.143076        0.32489  0.999960  \n",
       "75754                   0.172089        0.143076        0.32489  0.999974  \n",
       "75755                   0.172089        0.143076        0.32489  0.999987  \n",
       "75756                   0.172089        0.143076        0.32489  1.000000  \n",
       "\n",
       "[75757 rows x 63 columns]"
      ]
     },
     "execution_count": 20,
     "metadata": {},
     "output_type": "execute_result"
    }
   ],
   "source": [
    "X_train"
   ]
  },
  {
   "cell_type": "code",
   "execution_count": 21,
   "id": "e7daefd9",
   "metadata": {
    "execution": {
     "iopub.execute_input": "2022-02-05T01:51:29.414112Z",
     "iopub.status.busy": "2022-02-05T01:51:29.413245Z",
     "iopub.status.idle": "2022-02-05T01:54:03.208158Z",
     "shell.execute_reply": "2022-02-05T01:54:03.208673Z",
     "shell.execute_reply.started": "2022-02-05T01:31:53.913130Z"
    },
    "papermill": {
     "duration": 153.848661,
     "end_time": "2022-02-05T01:54:03.208902",
     "exception": false,
     "start_time": "2022-02-05T01:51:29.360241",
     "status": "completed"
    },
    "tags": []
   },
   "outputs": [],
   "source": [
    "# some regression algorithms Linear Regression', 'K nearest Regressor', 'DecisionTreeRegressor','RandomForestRegressor','Gradient Boosting Regressor', 'AdaBoosting Regressor']\n",
    "\n",
    "model = RandomForestRegressor()\n",
    "model.fit(X_train, y_train)\n",
    "output = model.predict(test)\n"
   ]
  },
  {
   "cell_type": "code",
   "execution_count": 22,
   "id": "5f27b187",
   "metadata": {
    "execution": {
     "iopub.execute_input": "2022-02-05T01:54:03.312590Z",
     "iopub.status.busy": "2022-02-05T01:54:03.311739Z",
     "iopub.status.idle": "2022-02-05T01:54:03.315926Z",
     "shell.execute_reply": "2022-02-05T01:54:03.315325Z",
     "shell.execute_reply.started": "2022-02-05T01:35:27.078481Z"
    },
    "papermill": {
     "duration": 0.05755,
     "end_time": "2022-02-05T01:54:03.316081",
     "exception": false,
     "start_time": "2022-02-05T01:54:03.258531",
     "status": "completed"
    },
    "tags": []
   },
   "outputs": [
    {
     "data": {
      "text/plain": [
       "array([0.29803759, 0.23816241, 0.29015085, ..., 0.11761467, 0.04720753,\n",
       "       0.05907675])"
      ]
     },
     "execution_count": 22,
     "metadata": {},
     "output_type": "execute_result"
    }
   ],
   "source": [
    "output\n",
    "\n",
    "# output_scaled= scaler.inverse_transform(output).reshape(-1,1)"
   ]
  },
  {
   "cell_type": "code",
   "execution_count": 23,
   "id": "d2c69675",
   "metadata": {
    "execution": {
     "iopub.execute_input": "2022-02-05T01:54:03.421969Z",
     "iopub.status.busy": "2022-02-05T01:54:03.421023Z",
     "iopub.status.idle": "2022-02-05T01:54:03.424623Z",
     "shell.execute_reply": "2022-02-05T01:54:03.425200Z",
     "shell.execute_reply.started": "2022-02-05T01:38:42.934640Z"
    },
    "papermill": {
     "duration": 0.060539,
     "end_time": "2022-02-05T01:54:03.425393",
     "exception": false,
     "start_time": "2022-02-05T01:54:03.364854",
     "status": "completed"
    },
    "tags": []
   },
   "outputs": [
    {
     "data": {
      "text/plain": [
       "(9705,)"
      ]
     },
     "execution_count": 23,
     "metadata": {},
     "output_type": "execute_result"
    }
   ],
   "source": [
    "output.shape"
   ]
  },
  {
   "cell_type": "code",
   "execution_count": 24,
   "id": "6bed582b",
   "metadata": {
    "execution": {
     "iopub.execute_input": "2022-02-05T01:54:03.530256Z",
     "iopub.status.busy": "2022-02-05T01:54:03.529020Z",
     "iopub.status.idle": "2022-02-05T01:54:03.533796Z",
     "shell.execute_reply": "2022-02-05T01:54:03.534414Z",
     "shell.execute_reply.started": "2022-02-05T01:46:13.757449Z"
    },
    "papermill": {
     "duration": 0.060152,
     "end_time": "2022-02-05T01:54:03.534595",
     "exception": false,
     "start_time": "2022-02-05T01:54:03.474443",
     "status": "completed"
    },
    "tags": []
   },
   "outputs": [],
   "source": [
    "dfoutput = pd.DataFrame(output)"
   ]
  },
  {
   "cell_type": "code",
   "execution_count": 25,
   "id": "67f5a84c",
   "metadata": {
    "execution": {
     "iopub.execute_input": "2022-02-05T01:54:03.639405Z",
     "iopub.status.busy": "2022-02-05T01:54:03.638370Z",
     "iopub.status.idle": "2022-02-05T01:54:03.645176Z",
     "shell.execute_reply": "2022-02-05T01:54:03.644604Z",
     "shell.execute_reply.started": "2022-02-05T01:46:29.575404Z"
    },
    "papermill": {
     "duration": 0.060426,
     "end_time": "2022-02-05T01:54:03.645327",
     "exception": false,
     "start_time": "2022-02-05T01:54:03.584901",
     "status": "completed"
    },
    "tags": []
   },
   "outputs": [
    {
     "data": {
      "text/plain": [
       "(9705, 1)"
      ]
     },
     "execution_count": 25,
     "metadata": {},
     "output_type": "execute_result"
    }
   ],
   "source": [
    "dfoutput.shape"
   ]
  },
  {
   "cell_type": "code",
   "execution_count": 26,
   "id": "b5c929e5",
   "metadata": {
    "execution": {
     "iopub.execute_input": "2022-02-05T01:54:03.752338Z",
     "iopub.status.busy": "2022-02-05T01:54:03.751220Z",
     "iopub.status.idle": "2022-02-05T01:54:03.754087Z",
     "shell.execute_reply": "2022-02-05T01:54:03.753526Z",
     "shell.execute_reply.started": "2022-02-05T01:49:07.305881Z"
    },
    "papermill": {
     "duration": 0.057258,
     "end_time": "2022-02-05T01:54:03.754230",
     "exception": false,
     "start_time": "2022-02-05T01:54:03.696972",
     "status": "completed"
    },
    "tags": []
   },
   "outputs": [],
   "source": [
    "denormalized_output = (output*(997.8661202 - 1.001169302)) + 1.001169302\n"
   ]
  },
  {
   "cell_type": "code",
   "execution_count": 27,
   "id": "37093c97",
   "metadata": {
    "execution": {
     "iopub.execute_input": "2022-02-05T01:54:03.860660Z",
     "iopub.status.busy": "2022-02-05T01:54:03.859894Z",
     "iopub.status.idle": "2022-02-05T01:54:03.864833Z",
     "shell.execute_reply": "2022-02-05T01:54:03.865398Z",
     "shell.execute_reply.started": "2022-02-05T01:49:24.300792Z"
    },
    "papermill": {
     "duration": 0.058617,
     "end_time": "2022-02-05T01:54:03.865568",
     "exception": false,
     "start_time": "2022-02-05T01:54:03.806951",
     "status": "completed"
    },
    "tags": []
   },
   "outputs": [
    {
     "data": {
      "text/plain": [
       "array([298.10439911, 238.41692437, 290.24237721, ..., 118.24711294,\n",
       "        48.06070609,  59.89271011])"
      ]
     },
     "execution_count": 27,
     "metadata": {},
     "output_type": "execute_result"
    }
   ],
   "source": [
    "denormalized_output"
   ]
  },
  {
   "cell_type": "code",
   "execution_count": 28,
   "id": "55aeb90a",
   "metadata": {
    "execution": {
     "iopub.execute_input": "2022-02-05T01:54:03.973696Z",
     "iopub.status.busy": "2022-02-05T01:54:03.972983Z",
     "iopub.status.idle": "2022-02-05T01:54:03.995924Z",
     "shell.execute_reply": "2022-02-05T01:54:03.995320Z",
     "shell.execute_reply.started": "2022-02-05T01:49:29.713991Z"
    },
    "papermill": {
     "duration": 0.080722,
     "end_time": "2022-02-05T01:54:03.996074",
     "exception": false,
     "start_time": "2022-02-05T01:54:03.915352",
     "status": "completed"
    },
    "tags": []
   },
   "outputs": [
    {
     "data": {
      "text/html": [
       "<div>\n",
       "<style scoped>\n",
       "    .dataframe tbody tr th:only-of-type {\n",
       "        vertical-align: middle;\n",
       "    }\n",
       "\n",
       "    .dataframe tbody tr th {\n",
       "        vertical-align: top;\n",
       "    }\n",
       "\n",
       "    .dataframe thead th {\n",
       "        text-align: right;\n",
       "    }\n",
       "</style>\n",
       "<table border=\"1\" class=\"dataframe\">\n",
       "  <thead>\n",
       "    <tr style=\"text-align: right;\">\n",
       "      <th></th>\n",
       "      <th>id</th>\n",
       "      <th>site_eui</th>\n",
       "    </tr>\n",
       "  </thead>\n",
       "  <tbody>\n",
       "    <tr>\n",
       "      <th>0</th>\n",
       "      <td>75757</td>\n",
       "      <td>0.0</td>\n",
       "    </tr>\n",
       "    <tr>\n",
       "      <th>1</th>\n",
       "      <td>75758</td>\n",
       "      <td>0.0</td>\n",
       "    </tr>\n",
       "    <tr>\n",
       "      <th>2</th>\n",
       "      <td>75759</td>\n",
       "      <td>0.0</td>\n",
       "    </tr>\n",
       "    <tr>\n",
       "      <th>3</th>\n",
       "      <td>75760</td>\n",
       "      <td>0.0</td>\n",
       "    </tr>\n",
       "    <tr>\n",
       "      <th>4</th>\n",
       "      <td>75761</td>\n",
       "      <td>0.0</td>\n",
       "    </tr>\n",
       "    <tr>\n",
       "      <th>...</th>\n",
       "      <td>...</td>\n",
       "      <td>...</td>\n",
       "    </tr>\n",
       "    <tr>\n",
       "      <th>9700</th>\n",
       "      <td>85457</td>\n",
       "      <td>0.0</td>\n",
       "    </tr>\n",
       "    <tr>\n",
       "      <th>9701</th>\n",
       "      <td>85458</td>\n",
       "      <td>0.0</td>\n",
       "    </tr>\n",
       "    <tr>\n",
       "      <th>9702</th>\n",
       "      <td>85459</td>\n",
       "      <td>0.0</td>\n",
       "    </tr>\n",
       "    <tr>\n",
       "      <th>9703</th>\n",
       "      <td>85460</td>\n",
       "      <td>0.0</td>\n",
       "    </tr>\n",
       "    <tr>\n",
       "      <th>9704</th>\n",
       "      <td>85461</td>\n",
       "      <td>0.0</td>\n",
       "    </tr>\n",
       "  </tbody>\n",
       "</table>\n",
       "<p>9705 rows × 2 columns</p>\n",
       "</div>"
      ],
      "text/plain": [
       "         id  site_eui\n",
       "0     75757       0.0\n",
       "1     75758       0.0\n",
       "2     75759       0.0\n",
       "3     75760       0.0\n",
       "4     75761       0.0\n",
       "...     ...       ...\n",
       "9700  85457       0.0\n",
       "9701  85458       0.0\n",
       "9702  85459       0.0\n",
       "9703  85460       0.0\n",
       "9704  85461       0.0\n",
       "\n",
       "[9705 rows x 2 columns]"
      ]
     },
     "execution_count": 28,
     "metadata": {},
     "output_type": "execute_result"
    }
   ],
   "source": [
    "sub = pd.read_csv(\"../input/widsdatathon2022/sample_solution.csv\")\n",
    "sub"
   ]
  },
  {
   "cell_type": "code",
   "execution_count": 29,
   "id": "37a98e2d",
   "metadata": {
    "execution": {
     "iopub.execute_input": "2022-02-05T01:54:04.106671Z",
     "iopub.status.busy": "2022-02-05T01:54:04.106007Z",
     "iopub.status.idle": "2022-02-05T01:54:04.116680Z",
     "shell.execute_reply": "2022-02-05T01:54:04.117320Z",
     "shell.execute_reply.started": "2022-02-05T01:49:56.533794Z"
    },
    "papermill": {
     "duration": 0.068215,
     "end_time": "2022-02-05T01:54:04.117491",
     "exception": false,
     "start_time": "2022-02-05T01:54:04.049276",
     "status": "completed"
    },
    "tags": []
   },
   "outputs": [
    {
     "data": {
      "text/html": [
       "<div>\n",
       "<style scoped>\n",
       "    .dataframe tbody tr th:only-of-type {\n",
       "        vertical-align: middle;\n",
       "    }\n",
       "\n",
       "    .dataframe tbody tr th {\n",
       "        vertical-align: top;\n",
       "    }\n",
       "\n",
       "    .dataframe thead th {\n",
       "        text-align: right;\n",
       "    }\n",
       "</style>\n",
       "<table border=\"1\" class=\"dataframe\">\n",
       "  <thead>\n",
       "    <tr style=\"text-align: right;\">\n",
       "      <th></th>\n",
       "      <th>id</th>\n",
       "      <th>site_eui</th>\n",
       "    </tr>\n",
       "  </thead>\n",
       "  <tbody>\n",
       "    <tr>\n",
       "      <th>0</th>\n",
       "      <td>75757</td>\n",
       "      <td>298.104399</td>\n",
       "    </tr>\n",
       "    <tr>\n",
       "      <th>1</th>\n",
       "      <td>75758</td>\n",
       "      <td>238.416924</td>\n",
       "    </tr>\n",
       "    <tr>\n",
       "      <th>2</th>\n",
       "      <td>75759</td>\n",
       "      <td>290.242377</td>\n",
       "    </tr>\n",
       "    <tr>\n",
       "      <th>3</th>\n",
       "      <td>75760</td>\n",
       "      <td>274.350345</td>\n",
       "    </tr>\n",
       "    <tr>\n",
       "      <th>4</th>\n",
       "      <td>75761</td>\n",
       "      <td>273.145257</td>\n",
       "    </tr>\n",
       "    <tr>\n",
       "      <th>...</th>\n",
       "      <td>...</td>\n",
       "      <td>...</td>\n",
       "    </tr>\n",
       "    <tr>\n",
       "      <th>9700</th>\n",
       "      <td>85457</td>\n",
       "      <td>112.644854</td>\n",
       "    </tr>\n",
       "    <tr>\n",
       "      <th>9701</th>\n",
       "      <td>85458</td>\n",
       "      <td>106.904084</td>\n",
       "    </tr>\n",
       "    <tr>\n",
       "      <th>9702</th>\n",
       "      <td>85459</td>\n",
       "      <td>118.247113</td>\n",
       "    </tr>\n",
       "    <tr>\n",
       "      <th>9703</th>\n",
       "      <td>85460</td>\n",
       "      <td>48.060706</td>\n",
       "    </tr>\n",
       "    <tr>\n",
       "      <th>9704</th>\n",
       "      <td>85461</td>\n",
       "      <td>59.892710</td>\n",
       "    </tr>\n",
       "  </tbody>\n",
       "</table>\n",
       "<p>9705 rows × 2 columns</p>\n",
       "</div>"
      ],
      "text/plain": [
       "         id    site_eui\n",
       "0     75757  298.104399\n",
       "1     75758  238.416924\n",
       "2     75759  290.242377\n",
       "3     75760  274.350345\n",
       "4     75761  273.145257\n",
       "...     ...         ...\n",
       "9700  85457  112.644854\n",
       "9701  85458  106.904084\n",
       "9702  85459  118.247113\n",
       "9703  85460   48.060706\n",
       "9704  85461   59.892710\n",
       "\n",
       "[9705 rows x 2 columns]"
      ]
     },
     "execution_count": 29,
     "metadata": {},
     "output_type": "execute_result"
    }
   ],
   "source": [
    "sub[\"site_eui\"] = denormalized_output\n",
    "sub\n"
   ]
  },
  {
   "cell_type": "code",
   "execution_count": 30,
   "id": "2dac6273",
   "metadata": {
    "execution": {
     "iopub.execute_input": "2022-02-05T01:54:04.224532Z",
     "iopub.status.busy": "2022-02-05T01:54:04.223472Z",
     "iopub.status.idle": "2022-02-05T01:54:04.266509Z",
     "shell.execute_reply": "2022-02-05T01:54:04.265918Z",
     "shell.execute_reply.started": "2022-02-05T01:50:01.856743Z"
    },
    "papermill": {
     "duration": 0.097972,
     "end_time": "2022-02-05T01:54:04.266653",
     "exception": false,
     "start_time": "2022-02-05T01:54:04.168681",
     "status": "completed"
    },
    "tags": []
   },
   "outputs": [],
   "source": [
    "sub.to_csv(\"submission.csv\", index=False)"
   ]
  },
  {
   "cell_type": "code",
   "execution_count": 31,
   "id": "378e154e",
   "metadata": {
    "execution": {
     "iopub.execute_input": "2022-02-05T01:54:04.376078Z",
     "iopub.status.busy": "2022-02-05T01:54:04.375271Z",
     "iopub.status.idle": "2022-02-05T01:54:04.378297Z",
     "shell.execute_reply": "2022-02-05T01:54:04.378976Z",
     "shell.execute_reply.started": "2022-02-04T23:05:50.323072Z"
    },
    "papermill": {
     "duration": 0.060065,
     "end_time": "2022-02-05T01:54:04.379146",
     "exception": false,
     "start_time": "2022-02-05T01:54:04.319081",
     "status": "completed"
    },
    "tags": []
   },
   "outputs": [],
   "source": [
    "#things you can do:\n",
    "# 1. finding corelation\n",
    "# 2. visualizing through different \n",
    "# 2. Principle component Analysis:  https://scikit-learn.org/stable/modules/generated/sklearn.decomposition.PCA.html \n",
    "# 2. outlier detection\n"
   ]
  }
 ],
 "metadata": {
  "kernelspec": {
   "display_name": "Python 3",
   "language": "python",
   "name": "python3"
  },
  "language_info": {
   "codemirror_mode": {
    "name": "ipython",
    "version": 3
   },
   "file_extension": ".py",
   "mimetype": "text/x-python",
   "name": "python",
   "nbconvert_exporter": "python",
   "pygments_lexer": "ipython3",
   "version": "3.7.12"
  },
  "papermill": {
   "default_parameters": {},
   "duration": 189.87941,
   "end_time": "2022-02-05T01:54:05.345182",
   "environment_variables": {},
   "exception": null,
   "input_path": "__notebook__.ipynb",
   "output_path": "__notebook__.ipynb",
   "parameters": {},
   "start_time": "2022-02-05T01:50:55.465772",
   "version": "2.3.3"
  }
 },
 "nbformat": 4,
 "nbformat_minor": 5
}
